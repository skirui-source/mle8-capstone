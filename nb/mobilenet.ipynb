{
 "cells": [
  {
   "cell_type": "code",
   "execution_count": null,
   "id": "eb77e8bd-9bc7-49ba-9584-da98835d3444",
   "metadata": {},
   "outputs": [],
   "source": [
    "import numpy as np\n",
    "import sklearn \n",
    "import tensorflow as tf\n",
    "from tensorflow import keras \n",
    "\n",
    "from keras.optimizers import Adam\n",
    "from keras.metrics import categorical_crossentropy\n",
    "from keras.preprocessing.image import ImageDataGenerator \n",
    "from keras.layers import Dense\n",
    "\n",
    "import itertools\n",
    "import os, shutil, random, glob\n",
    "\n",
    "from sklearn.metrics import confusion_matrix \n",
    "\n",
    "import matplotlib.pyplot as plt \n",
    "%matplotlib inline "
   ]
  },
  {
   "cell_type": "markdown",
   "id": "633812cb-eeb7-45d2-adb8-31358826d439",
   "metadata": {
    "tags": []
   },
   "source": [
    "## **Image preparation**"
   ]
  },
  {
   "cell_type": "markdown",
   "id": "8015c1b4-2410-4905-bf42-c262274614fd",
   "metadata": {},
   "source": [
    "Dataset: kaggle link\n",
    "- 10 classes (digits 0-9)\n",
    "- class data:\n",
    "    - class 0:\n",
    "    - class 1:\n",
    "    - class 2:\n",
    "    ..."
   ]
  },
  {
   "cell_type": "code",
   "execution_count": null,
   "id": "4978a05a-66a1-403a-9cc2-a02f27929853",
   "metadata": {},
   "outputs": [],
   "source": [
    "# create train, valid and test folders\n",
    "%cd ../data\n",
    "%mkdir train\n",
    "%mkdir valid\n",
    "%mkdir test "
   ]
  },
  {
   "cell_type": "code",
   "execution_count": null,
   "id": "3dcb4e1f-9d3f-4926-8723-bb10027e063e",
   "metadata": {},
   "outputs": [],
   "source": [
    "# move all class directories with images into train\n",
    "%mv 0/ 1/ 2/ train/"
   ]
  },
  {
   "cell_type": "code",
   "execution_count": null,
   "id": "896bd792-7433-44d8-a3c1-3cdb00f9f560",
   "metadata": {},
   "outputs": [],
   "source": [
    "# make class directories for valid and test \n",
    "%cd valid\n",
    "%mkdir 0/ 1/ 2/\n",
    "\n",
    "%cd test\n",
    "%mkdir 0/ 1/ 2 / "
   ]
  },
  {
   "cell_type": "markdown",
   "id": "7f09d6fb-6826-4b7e-968f-4ee2c908794c",
   "metadata": {},
   "source": [
    "## **Fine-tune MobileNet model**"
   ]
  },
  {
   "cell_type": "code",
   "execution_count": null,
   "id": "34074e5a-df14-4370-a26b-0899b2cf66e8",
   "metadata": {},
   "outputs": [],
   "source": [
    "train_path = \n",
    "valid_path = \n",
    "test_path = "
   ]
  },
  {
   "cell_type": "code",
   "execution_count": null,
   "id": "4d3466e7-aceb-47c7-843c-563dd298e902",
   "metadata": {},
   "outputs": [],
   "source": [
    "train_batches = ImageDataGenerator(preprocessing_function(keras.applications.mobilenet.preprocess_input).\\\n",
    "                                   flow_from_directory(train_path, target_sizee=(224,224), batch_size=)\n",
    "\n",
    "valid_batches = ImageDataGenerator(preprocessing_function(keras.applications.mobilenet.preprocess_input).\\\n",
    "                                   flow_from_directory(valid_path, target_sizee=(224,224), batch_size=)\n",
    "                                   \n",
    "test_batches = ImageDataGenerator(preprocessing_function(keras.applications.mobilenet.preprocess_input).\\\n",
    "                                   flow_from_directory(test_path, target_sizee=(224,224), batch_size=, shuffle=False)\n"
   ]
  },
  {
   "cell_type": "code",
   "execution_count": null,
   "id": "c278da50-ca25-431a-aeca-b9be904186b4",
   "metadata": {},
   "outputs": [],
   "source": [
    "mobile = keras.applications.mobilenet.MobileNet()"
   ]
  },
  {
   "cell_type": "code",
   "execution_count": null,
   "id": "c613dbcb-e2d4-448d-bb8c-f4a083d12c34",
   "metadata": {},
   "outputs": [],
   "source": [
    "mobile.summary()"
   ]
  },
  {
   "cell_type": "code",
   "execution_count": null,
   "id": "300953c1-70a4-4e77-8bec-8b6f0916629e",
   "metadata": {},
   "outputs": [],
   "source": [
    "x = mobile.layers[-6].output  # exclude last 5 layers (can vary)\n",
    "predictions (fc) = Dense(10, activation=\"softmax\")(x)"
   ]
  },
  {
   "cell_type": "code",
   "execution_count": null,
   "id": "e7f43f90-02d4-4492-8101-f38ffc9a0057",
   "metadata": {},
   "outputs": [],
   "source": [
    "model = Model(inputs = mobile.input, outputs=predictions) # Model is keras functional API, not sequential"
   ]
  },
  {
   "cell_type": "code",
   "execution_count": null,
   "id": "fd2bcba3-5bc5-4cff-a624-562454750f9b",
   "metadata": {},
   "outputs": [],
   "source": [
    "model.summary() "
   ]
  },
  {
   "cell_type": "code",
   "execution_count": null,
   "id": "4d86bb5f-fd23-45e7-a875-0950a351f467",
   "metadata": {},
   "outputs": [],
   "source": [
    "# freeze weights of majority of the layers\n",
    "# but need to train more layers since model was not trained on \n",
    "# hand sign language i.e classes are different than in ImageNet library\n",
    "\n",
    "for layer in model.layers[:-23]: # tinker with this number \n",
    "    layer.trainable = False"
   ]
  },
  {
   "cell_type": "markdown",
   "id": "aeaba572-79a7-42ad-9121-fcb53822efb6",
   "metadata": {},
   "source": [
    "## **Train the model**"
   ]
  },
  {
   "cell_type": "code",
   "execution_count": null,
   "id": "b1ac9457-a7d1-457d-ac6e-0795c3acb962",
   "metadata": {},
   "outputs": [],
   "source": [
    "model.compile(Adam(lr=0.0001), loss=\"categorical_crossentropy\", metrics=[\"accuracy\"])"
   ]
  },
  {
   "cell_type": "code",
   "execution_count": null,
   "id": "3047c3e3-fa1a-4db1-abf9-a162f0cf769d",
   "metadata": {},
   "outputs": [],
   "source": [
    "model.fit_generator(train_batches, steps_per_epoch=, validation_data=valid_batches, \\\n",
    "                        validation_steps=, epochs=60, verbose=2)"
   ]
  },
  {
   "cell_type": "code",
   "execution_count": null,
   "id": "dbecba3d-4440-49f4-a36b-bed067d4b8e2",
   "metadata": {},
   "outputs": [],
   "source": [
    "# try training for longer or adjusting hyper parameters to see accuracy in performance "
   ]
  },
  {
   "cell_type": "markdown",
   "id": "98c3c01e-3cdf-480d-b8dc-268279b6c059",
   "metadata": {},
   "source": [
    "## **Predict sign language digits**"
   ]
  },
  {
   "cell_type": "code",
   "execution_count": null,
   "id": "975295fb-ef4a-4144-bd8b-b0f6a2933946",
   "metadata": {},
   "outputs": [],
   "source": [
    "test_labels = test_batches.classes\n",
    "test_labels"
   ]
  },
  {
   "cell_type": "code",
   "execution_count": null,
   "id": "d1e8c9a1-f681-4e53-bee4-330c703c2f8a",
   "metadata": {},
   "outputs": [],
   "source": [
    "predictions = model.predict_generator(test_batches, steps=, verbose=2) #0"
   ]
  },
  {
   "cell_type": "code",
   "execution_count": null,
   "id": "5cd9547b-d0e3-4ab7-89d5-8ae3c18d345e",
   "metadata": {},
   "outputs": [],
   "source": [
    "cm = confusion_matrix(test_labels, np.round(predictions[;0]))"
   ]
  },
  {
   "cell_type": "code",
   "execution_count": null,
   "id": "30ae3a1b-f348-412a-a59d-03285a3f0b36",
   "metadata": {},
   "outputs": [],
   "source": [
    "test_batches.class_indices"
   ]
  },
  {
   "cell_type": "code",
   "execution_count": null,
   "id": "870f5613-d0b6-49b6-b607-783a6ff91f91",
   "metadata": {},
   "outputs": [],
   "source": [
    "# cm_plot_labels = []\n",
    "# plot_confusion_matrix(cm, cm_plot_labels, title=\"Confusion Matrix\")"
   ]
  },
  {
   "cell_type": "code",
   "execution_count": null,
   "id": "e7f73c7f-5ce0-42ac-9109-7bcc655d36c6",
   "metadata": {},
   "outputs": [],
   "source": []
  },
  {
   "cell_type": "code",
   "execution_count": null,
   "id": "ae6db907-dab6-49de-9b23-313fbae7ee4a",
   "metadata": {},
   "outputs": [],
   "source": [
    " # data augmentation = reduce overfitting, increase training sample"
   ]
  },
  {
   "cell_type": "code",
   "execution_count": null,
   "id": "4f0a34cc-472d-4cb9-aa8d-13a56506a408",
   "metadata": {},
   "outputs": [],
   "source": [
    "gen = ImageDataGenerator(rotation_Range = ,\n",
    "                         width_shift_range= ,\n",
    "                         height_shift_range=,\n",
    "                         shear_range=,\n",
    "                         zoom_range=,\n",
    "                         channel_shift_range=,\n",
    "                         horizontal_flip=True,\n",
    "                        )"
   ]
  }
 ],
 "metadata": {
  "kernelspec": {
   "display_name": "Python 3 (ipykernel)",
   "language": "python",
   "name": "python3"
  },
  "language_info": {
   "codemirror_mode": {
    "name": "ipython",
    "version": 3
   },
   "file_extension": ".py",
   "mimetype": "text/x-python",
   "name": "python",
   "nbconvert_exporter": "python",
   "pygments_lexer": "ipython3",
   "version": "3.8.13"
  }
 },
 "nbformat": 4,
 "nbformat_minor": 5
}
