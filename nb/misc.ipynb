{
 "cells": [
  {
   "cell_type": "markdown",
   "id": "bb40519e-15fa-4f77-81e0-73cf90ec45ed",
   "metadata": {},
   "source": [
    "## split into test/train/valid"
   ]
  },
  {
   "cell_type": "code",
   "execution_count": 2,
   "id": "cd1ef234-6bf6-4395-8693-ccd5444d56af",
   "metadata": {},
   "outputs": [],
   "source": [
    "import splitfolders"
   ]
  },
  {
   "cell_type": "code",
   "execution_count": 5,
   "id": "0e0dd30b-9cab-4117-b71a-22675fa2e5fc",
   "metadata": {},
   "outputs": [
    {
     "name": "stderr",
     "output_type": "stream",
     "text": [
      "\n",
      "Copying files: 700 files [00:00, 8006.10 files/s]\n"
     ]
    }
   ],
   "source": [
    "input_folder = \"../data/digits/\"\n",
    "output = \"../data\"\n",
    "\n",
    "splitfolders.ratio(input_folder, output=output, seed=42, ratio=(0.8, 0.1, 0.1)) # train/val/test ratio"
   ]
  },
  {
   "cell_type": "code",
   "execution_count": null,
   "id": "32ce0edf-765a-4c5b-9175-14be0fe19960",
   "metadata": {},
   "outputs": [],
   "source": []
  },
  {
   "cell_type": "code",
   "execution_count": null,
   "id": "aadb467c-b7a0-4054-866f-c009032b174b",
   "metadata": {},
   "outputs": [],
   "source": []
  },
  {
   "cell_type": "code",
   "execution_count": null,
   "id": "b4089459-cebd-4be3-b4e3-317ca8651ae9",
   "metadata": {},
   "outputs": [],
   "source": []
  },
  {
   "cell_type": "code",
   "execution_count": null,
   "id": "93879d6a-185f-4c84-93a1-b3c2bd990fd6",
   "metadata": {},
   "outputs": [],
   "source": [
    "mobile = keras.applications.mobilenet.MobileNet()"
   ]
  },
  {
   "cell_type": "code",
   "execution_count": null,
   "id": "3272b64c-221b-4e88-83ec-4adf0384fe21",
   "metadata": {},
   "outputs": [],
   "source": [
    "from Ipython.display import Image\n",
    "Image(filename =, width=, height=)"
   ]
  },
  {
   "cell_type": "code",
   "execution_count": null,
   "id": "92e850b3-cc77-4ed5-aae9-dfc92aee91bf",
   "metadata": {},
   "outputs": [],
   "source": [
    "def prepare_image(file):\n",
    "    img_path = \n",
    "    img = image.load_img(img_path + file, target_size=(224, 224))\n",
    "    img_array = image.img_to_array(img)\n",
    "    img_array_expanded_dims = np.expand_dims(img_array, axis=0)\n",
    "    # ensure image data in same format as pretrained MobileNet model\n",
    "    # scale images to [-1, 1] \n",
    "    return keras.applications.mobilenet.preprocess_input(img_array_expanded_dims)"
   ]
  },
  {
   "cell_type": "code",
   "execution_count": null,
   "id": "6bb0e727-cff5-4f40-94ea-d2304a3a7caf",
   "metadata": {},
   "outputs": [],
   "source": [
    "preprocessed_image = prepare_image(\"\")\n",
    "predictions = mobile.predict(preprocessed_image)\n",
    "results = imagenet_utils.decode_predictions(predictions)\n",
    "results"
   ]
  },
  {
   "cell_type": "code",
   "execution_count": null,
   "id": "21b279c9-0c30-47f1-b14b-dd84225f3663",
   "metadata": {},
   "outputs": [],
   "source": [
    "# freeze weights of all layers except the last 5\n",
    "# ie only the last 5 years of the model will be trained \n",
    "# no of layers to train varies depending on situation\n",
    "for layer in model.layers[:-5]:\n",
    "    layer.trainable = False"
   ]
  },
  {
   "cell_type": "code",
   "execution_count": null,
   "id": "22073b37-3983-4779-9391-1824b70c80c0",
   "metadata": {},
   "outputs": [],
   "source": []
  },
  {
   "cell_type": "markdown",
   "id": "8a086050-daec-4a11-9b8e-aea881c8babd",
   "metadata": {},
   "source": [
    "Data Augmentation in Keras"
   ]
  },
  {
   "cell_type": "code",
   "execution_count": null,
   "id": "f35a2d95-0080-4fd3-bb9f-6dbce713051d",
   "metadata": {},
   "outputs": [],
   "source": [
    "gen = ImageDataGenerator(rotation_Range = ,\n",
    "                         width_shift_range= ,\n",
    "                         height_shift_range=,\n",
    "                         shear_range=,\n",
    "                         zoom_range=,\n",
    "                         channel_shift_range=,\n",
    "                         horizontal_flip=True,\n",
    "                        )"
   ]
  },
  {
   "cell_type": "code",
   "execution_count": null,
   "id": "563c6fd3-07e4-4abc-8d46-6fb2520024f3",
   "metadata": {},
   "outputs": [],
   "source": [
    "image_path = \"\""
   ]
  },
  {
   "cell_type": "code",
   "execution_count": null,
   "id": "8f59d055-aea5-4fc5-8f99-43a682e0846f",
   "metadata": {},
   "outputs": [],
   "source": [
    "image = np.expand_dims(ndimage.imread(image_path),0)\n",
    "plt.imshow(image[0])"
   ]
  },
  {
   "cell_type": "code",
   "execution_count": null,
   "id": "fd98e89f-b590-448e-9feb-893a6844ad89",
   "metadata": {},
   "outputs": [],
   "source": [
    "# generate batches of augmented images from the one image\n",
    "# flow taken in numpy data >> generates batches of aug data\n",
    "aug_iter = gen.flow(image)"
   ]
  },
  {
   "cell_type": "code",
   "execution_count": null,
   "id": "8d6169fe-5585-41fe-af00-c8c2e60a729c",
   "metadata": {},
   "outputs": [],
   "source": []
  },
  {
   "cell_type": "code",
   "execution_count": null,
   "id": "c668da4d-73bf-4b1b-a527-2764d3224b07",
   "metadata": {},
   "outputs": [],
   "source": []
  },
  {
   "cell_type": "code",
   "execution_count": null,
   "id": "2db3af7c-351a-4212-9cca-b1904c45919d",
   "metadata": {},
   "outputs": [],
   "source": []
  },
  {
   "cell_type": "code",
   "execution_count": null,
   "id": "93acea24-a918-4690-ace1-c0050481e121",
   "metadata": {},
   "outputs": [],
   "source": []
  },
  {
   "cell_type": "code",
   "execution_count": null,
   "id": "3501125d-5ef8-4efa-8eca-48a1ddf79a13",
   "metadata": {},
   "outputs": [],
   "source": []
  },
  {
   "cell_type": "code",
   "execution_count": null,
   "id": "96455f76-6b7e-40cd-a2bd-562de0db385c",
   "metadata": {},
   "outputs": [],
   "source": []
  }
 ],
 "metadata": {
  "kernelspec": {
   "display_name": "Python 3 (ipykernel)",
   "language": "python",
   "name": "python3"
  },
  "language_info": {
   "codemirror_mode": {
    "name": "ipython",
    "version": 3
   },
   "file_extension": ".py",
   "mimetype": "text/x-python",
   "name": "python",
   "nbconvert_exporter": "python",
   "pygments_lexer": "ipython3",
   "version": "3.8.13"
  }
 },
 "nbformat": 4,
 "nbformat_minor": 5
}
