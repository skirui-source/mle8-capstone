{
 "cells": [
  {
   "cell_type": "code",
   "execution_count": 1,
   "id": "3e38a694-a3ae-43f8-9a8b-a41352163884",
   "metadata": {},
   "outputs": [
    {
     "name": "stdout",
     "output_type": "stream",
     "text": [
      "Requirement already satisfied: numpy in /Users/sheilahkirui/anaconda3/envs/capstone/lib/python3.8/site-packages (1.23.1)\n",
      "Requirement already satisfied: pandas in /Users/sheilahkirui/anaconda3/envs/capstone/lib/python3.8/site-packages (1.4.3)\n",
      "Requirement already satisfied: seaborn in /Users/sheilahkirui/anaconda3/envs/capstone/lib/python3.8/site-packages (0.11.2)\n",
      "Requirement already satisfied: matplotlib in /Users/sheilahkirui/anaconda3/envs/capstone/lib/python3.8/site-packages (3.5.2)\n",
      "Collecting sklearn\n",
      "  Downloading sklearn-0.0.tar.gz (1.1 kB)\n",
      "  Preparing metadata (setup.py) ... \u001b[?25ldone\n",
      "\u001b[?25hRequirement already satisfied: python-dateutil>=2.8.1 in /Users/sheilahkirui/anaconda3/envs/capstone/lib/python3.8/site-packages (from pandas) (2.8.2)\n",
      "Requirement already satisfied: pytz>=2020.1 in /Users/sheilahkirui/anaconda3/envs/capstone/lib/python3.8/site-packages (from pandas) (2022.1)\n",
      "Requirement already satisfied: scipy>=1.0 in /Users/sheilahkirui/anaconda3/envs/capstone/lib/python3.8/site-packages (from seaborn) (1.9.0)\n",
      "Requirement already satisfied: pillow>=6.2.0 in /Users/sheilahkirui/anaconda3/envs/capstone/lib/python3.8/site-packages (from matplotlib) (9.2.0)\n",
      "Requirement already satisfied: pyparsing>=2.2.1 in /Users/sheilahkirui/anaconda3/envs/capstone/lib/python3.8/site-packages (from matplotlib) (3.0.9)\n",
      "Requirement already satisfied: fonttools>=4.22.0 in /Users/sheilahkirui/anaconda3/envs/capstone/lib/python3.8/site-packages (from matplotlib) (4.34.4)\n",
      "Requirement already satisfied: cycler>=0.10 in /Users/sheilahkirui/anaconda3/envs/capstone/lib/python3.8/site-packages (from matplotlib) (0.11.0)\n",
      "Requirement already satisfied: packaging>=20.0 in /Users/sheilahkirui/anaconda3/envs/capstone/lib/python3.8/site-packages (from matplotlib) (21.3)\n",
      "Requirement already satisfied: kiwisolver>=1.0.1 in /Users/sheilahkirui/anaconda3/envs/capstone/lib/python3.8/site-packages (from matplotlib) (1.4.4)\n",
      "Collecting scikit-learn\n",
      "  Downloading scikit_learn-1.1.1-cp38-cp38-macosx_10_13_x86_64.whl (8.5 MB)\n",
      "\u001b[2K     \u001b[90m━━━━━━━━━━━━━━━━━━━━━━━━━━━━━━━━━━━━━━━━\u001b[0m \u001b[32m8.5/8.5 MB\u001b[0m \u001b[31m3.0 MB/s\u001b[0m eta \u001b[36m0:00:00\u001b[0m00:01\u001b[0m00:01\u001b[0m\n",
      "\u001b[?25hRequirement already satisfied: six>=1.5 in /Users/sheilahkirui/anaconda3/envs/capstone/lib/python3.8/site-packages (from python-dateutil>=2.8.1->pandas) (1.16.0)\n",
      "Collecting threadpoolctl>=2.0.0\n",
      "  Using cached threadpoolctl-3.1.0-py3-none-any.whl (14 kB)\n",
      "Collecting joblib>=1.0.0\n",
      "  Using cached joblib-1.1.0-py2.py3-none-any.whl (306 kB)\n",
      "Building wheels for collected packages: sklearn\n",
      "  Building wheel for sklearn (setup.py) ... \u001b[?25ldone\n",
      "\u001b[?25h  Created wheel for sklearn: filename=sklearn-0.0-py2.py3-none-any.whl size=1310 sha256=2e5e763aca67f119f39fece6d0ac3702027e21d6a21e7f0f631dfa2f3e9aac4f\n",
      "  Stored in directory: /Users/sheilahkirui/Library/Caches/pip/wheels/22/0b/40/fd3f795caaa1fb4c6cb738bc1f56100be1e57da95849bfc897\n",
      "Successfully built sklearn\n",
      "Installing collected packages: threadpoolctl, joblib, scikit-learn, sklearn\n",
      "Successfully installed joblib-1.1.0 scikit-learn-1.1.1 sklearn-0.0 threadpoolctl-3.1.0\n"
     ]
    }
   ],
   "source": [
    "!pip install numpy pandas seaborn matplotlib sklearn"
   ]
  }
 ],
 "metadata": {
  "kernelspec": {
   "display_name": "Python 3 (ipykernel)",
   "language": "python",
   "name": "python3"
  },
  "language_info": {
   "codemirror_mode": {
    "name": "ipython",
    "version": 3
   },
   "file_extension": ".py",
   "mimetype": "text/x-python",
   "name": "python",
   "nbconvert_exporter": "python",
   "pygments_lexer": "ipython3",
   "version": "3.8.13"
  }
 },
 "nbformat": 4,
 "nbformat_minor": 5
}
