{
 "cells": [
  {
   "cell_type": "code",
   "execution_count": 1,
   "id": "83f888ef-5273-43fb-a945-2aeecccd37f7",
   "metadata": {},
   "outputs": [],
   "source": [
    "import keras\n",
    "import cv2\n",
    "import numpy as np\n",
    "from keras.utils import img_to_array \n",
    "from matplotlib import pyplot as plt"
   ]
  },
  {
   "cell_type": "code",
   "execution_count": 2,
   "id": "66da7a2f-4df4-4d53-9847-f04e1260c3b6",
   "metadata": {},
   "outputs": [],
   "source": [
    "cap = cv2.VideoCapture(0)\n",
    "ret, frame = cap.read()"
   ]
  },
  {
   "cell_type": "code",
   "execution_count": 3,
   "id": "d7e6f7f1-1016-4ba9-ac1e-5e1030760d9f",
   "metadata": {},
   "outputs": [
    {
     "data": {
      "text/plain": [
       "True"
      ]
     },
     "execution_count": 3,
     "metadata": {},
     "output_type": "execute_result"
    }
   ],
   "source": [
    "ret"
   ]
  },
  {
   "cell_type": "code",
   "execution_count": 5,
   "id": "ec3755db-72a7-4e14-81fe-14a7a1def23b",
   "metadata": {},
   "outputs": [
    {
     "data": {
      "text/plain": [
       "(480, 640, 3)"
      ]
     },
     "execution_count": 5,
     "metadata": {},
     "output_type": "execute_result"
    }
   ],
   "source": [
    "frame.shape"
   ]
  },
  {
   "cell_type": "code",
   "execution_count": 6,
   "id": "eb3f02c7-afce-4357-82a6-a2249e355972",
   "metadata": {},
   "outputs": [],
   "source": [
    "cap.release()\n",
    "cv2.destroyAllWindows()"
   ]
  },
  {
   "cell_type": "code",
   "execution_count": null,
   "id": "011c8696-38ec-44ca-99cb-05061c3e959d",
   "metadata": {},
   "outputs": [],
   "source": [
    "    left = int(0.5*frame.shape[1])\n",
    "    top  = 10 #top\n",
    "    right = frame.shape[1]-10 \n",
    "    bottom  = int(0.5*frame.shape[1]) "
   ]
  },
  {
   "cell_type": "code",
   "execution_count": null,
   "id": "c87eb2ec-d8ce-4bd0-b687-4cc6a9b73c29",
   "metadata": {},
   "outputs": [],
   "source": [
    "def take_photo():\n",
    "    cap = cv2.VideoCapture(0)\n",
    "    ret, frame = cap.read()\n",
    "    cv2.imwrite('webcamphoto.jpg', frame)\n",
    "    cap.release()\n",
    "    cv2.destroyAllWindows()"
   ]
  },
  {
   "cell_type": "code",
   "execution_count": null,
   "id": "8d7cff5b-7dcd-4253-9455-d6f51904fb13",
   "metadata": {},
   "outputs": [],
   "source": [
    "take_photo()"
   ]
  },
  {
   "cell_type": "code",
   "execution_count": null,
   "id": "573b1a82-0931-41dc-97f1-b14915f353ac",
   "metadata": {},
   "outputs": [],
   "source": [
    "# while True:\n",
    "    # ret,frame = cap.read()\n",
    "    # print(int(cap.get(cv2.CAP_PROP_FRAME_WIDTH)))\n",
    "    # print(int(cap.get(cv2.CAP_PROP_FRAME_HEIGHT)))\n",
    "    # plt.imshow(cv2.cvtColor(frame, cv2.COLOR_BGR2RGB))\n",
    "    # plt.show()\n",
    "    \n",
    "    \n",
    "# width = int(cap.get(cv2.CAP_PROP_FRAME_WIDTH)) #640\n",
    "# height = int(cap.get(cv2.CAP_PROP_FRAME_HEIGHT)) #480"
   ]
  }
 ],
 "metadata": {
  "kernelspec": {
   "display_name": "Python 3 (ipykernel)",
   "language": "python",
   "name": "python3"
  },
  "language_info": {
   "codemirror_mode": {
    "name": "ipython",
    "version": 3
   },
   "file_extension": ".py",
   "mimetype": "text/x-python",
   "name": "python",
   "nbconvert_exporter": "python",
   "pygments_lexer": "ipython3",
   "version": "3.8.13"
  }
 },
 "nbformat": 4,
 "nbformat_minor": 5
}
